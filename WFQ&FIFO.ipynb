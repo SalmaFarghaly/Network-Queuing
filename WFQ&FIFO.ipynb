{
 "cells": [
  {
   "cell_type": "markdown",
   "metadata": {},
   "source": [
    ###"this code will simulate the operating of two of the queuing algorithms used in networking among the QOS techniques, namely the ( weighted fair queuing and first in first serve ) techniques.\n",
   ]
  },
  {
   "cell_type": "code",
   "execution_count": 81,
   "metadata": {},
   "outputs": [],
   "source": [
    "'''\n",
    "    this function reads the input file given the file path\n",
    "    and outputs the list of packets \n",
    "    the input file format will be as follows \n",
    "    ==========================================================\n",
    "    line 0   : number of queues(N)\n",
    "    line 1   : weight for Queue 1\n",
    "    line 2   : weight for Queue 2\n",
    "    ..........\n",
    "    ..........\n",
    "    line N   : weight for Queue N\n",
    "    line N+1 : queue_number packet_length packet_arrival_time\n",
    "    line N+2 : queue_number packet_length packet_arrival_time\n",
    "    ..........\n",
    "    ..........\n",
    "    line N+m : queue_number packet_length packet_arrival_time\n",
    "    for example please find attached file test1.txt\n",
    "    ===========================================================\n",
    "    the output of this function should be a list of the packets in any format or order\n",
    "    from your choice as long as it can fit to the next functions without the need to change \n",
    "    their passing parameters\n",
    "    \n",
    "    '''\n",
    "def read_file (file_path): 
    "    List_of_packets=[]\n",
    "    weights=[]\n",
    "    \n",
    "    file=open(file_path, \"r\")\n",
    "    \n",
    "    NumQueues= int(file.readline())\n",
    "    for i in range(NumQueues):\n",
    "        x= int(file.readline())\n",
    "        weights.append(x)\n",
    "        \n",
    "        \n",
    "    Dict = {} \n",
    "    for i in file:\n",
    "        res = [int(z) for z in i.split() if z.isdigit()]\n",
    "        Dict['queueNumber'] = res[0]\n",
    "        Dict['packetLength'] = res[1]\n",
    "        Dict['packetArrivalTime'] =res[2]\n",
    "        Dict['weight']=weights[res[0]-1]\n",
    "        \n",
    "        List_of_packets.append(Dict.copy())\n",
    "    \n",
    "    #end of code \n",
    "    print(\"done reading file\")\n",
    "    return List_of_packets"
   ]
  },
  {
   "cell_type": "code",
   "execution_count": 190,
   "metadata": {},
   "outputs": [],
   "source": [
    "'''\n",
    "    this function takes as an argument the list of packets \n",
    "    and outputs the list of packets after ordering them in their sending order \n",
    "    using the weighted fair queueing algorithm\n",
    "\n",
    "    the output of this function should be a list of the packets in any format or order\n",
    "    from your choice as long as it can fit to the next functions without the need to change \n",
    "    their passing parameters\n",
    "\n",
    "'''\n",
    "from operator import itemgetter\n",
    "def Weighted_Fair_Queuing (List_of_packets):
    "    ordered_packets=[]\n",
    "    #your code starts here\n",
    "    FinishTime=0\n",
    "    prevQueue=1\n",
    "    for packet in List_of_packets:\n",
    "        if packet['queueNumber']!=prevQueue:\n",
    "            FinishTime=0\n",
    "        if packet['packetArrivalTime']>FinishTime:\n",
    "            packet['finishTime']=packet['packetArrivalTime']+ packet['packetLength'] /packet['weight']\n",
    "        else :\n",
    "            packet['finishTime']=FinishTime+ packet['packetLength'] /packet['weight']\n",
    "        FinishTime=packet['finishTime']\n",
    "        prevQueue=packet['queueNumber']\n",
    "    #sort the packets according to their finish time\n",
    "    ordered_packets = sorted(List_of_packets, key=lambda k: k['finishTime']) \n",
    "    \n",
    "    ActualFinishTime=0\n",
    "    for packet in ordered_packets:\n",
    "        if packet['packetArrivalTime']<=ActualFinishTime:\n",
    "            packet['ActualFinishTime']=ActualFinishTime+packet['packetLength']\n",
    "        else :\n",
    "            packet['ActualFinishTime']=packet['packetArrivalTime']+packet['packetLength']\n",
    "        ActualFinishTime=packet['ActualFinishTime']\n",
    "            \n",
    "    #print(ordered_packets)   \n",
    "    print(\"done Weighted_Fair_Queuing\")\n",
    "    return ordered_packets"
   ]
  },
  {
   "cell_type": "code",
   "execution_count": 198,
   "metadata": {},
   "outputs": [],
   "source": [
    "'''\n",
    "    this function takes as an argument the list of packets \n",
    "    and outputs the list of packets after ordering them in their sending order \n",
    "    using the simple first in first serve queuing algorithm\n",
    "\n",
    "    the output of this function should be a list of the packets in any format or order\n",
    "    from your choice as long as it can fit to the next functions without the need to change \n",
    "    their passing parameters\n",
    "\n",
    "'''\n",
    "from operator import itemgetter\n",
    "def First_In_First_Out_Queuing (List_of_packets): 
    "    ordered_packets=[]\n",
    "    #sort the packets according to arrival time\n",
    "    ordered_packets = sorted(List_of_packets, key=lambda k: k['packetArrivalTime']) \n",
    "    ActualFinishTime=0\n",
    "    for packet in ordered_packets:\n",
    "        if packet['packetArrivalTime']<=ActualFinishTime:\n",
    "            packet['ActualFinishTime']=ActualFinishTime+packet['packetLength']\n",
    "        else :\n",
    "            packet['ActualFinishTime']=packet['packetArrivalTime']+packet['packetLength']\n",
    "        ActualFinishTime=packet['ActualFinishTime']\n",
    "            \n",
    "    #end of code\n",
    "    #print(ordered_packets) \n",
    "    print(\"done First_In_First_Out_Queuing\")\n",
    "    return ordered_packets"
   ]
  },
  {
   "cell_type": "code",
   "execution_count": 199,
   "metadata": {},
   "outputs": [],
   "source": [
    "'''\n",
    "    this function takes as an argument the list of packets after ordering them in their sending order, \n",
    "    and outputs the average waiting time for all the packets and the total waiting time.\n",
    "    the waiting time for a single packet= the actual finish sending time - the arrival time.  \n",
    "\n",
    "    the output of this function should only be the print messages.\n",
    "\n",
    "'''\n",
    "def print_statistics(ordered_packets): 
    "    avg_wait_time=0\n",
    "    tot_wait_time=0\n",
    "    count=0;\n",
    "    #your code starts here\n",
    "    #print(ordered_packets)\n",
    "    for packet in ordered_packets:\n",
    "        tot_wait_time+=packet['ActualFinishTime']-packet['packetArrivalTime']\n",
    "        count+=1\n",
    "    avg_wait_time=tot_wait_time/count\n",
    "    #end of code\n",
    "    print(\"average waiting time : \", avg_wait_time)\n",
    "    print(\"total waiting time: \", tot_wait_time)"
   ]
  },
  {
   "cell_type": "code",
   "execution_count": 200,
   "metadata": {},
   "outputs": [],
   "source": [
    "#dont modify this\n",
    "def main(file_path):\n",
    "    List_of_packets=read_file(file_path)\n",
    "    WFQ_ordered_packets=Weighted_Fair_Queuing(List_of_packets)\n",
    "    print(\"using WFQ: \")\n",
    "    print_statistics(WFQ_ordered_packets)\n",
    "    FIFO_ordered_packets=First_In_First_Out_Queuing(List_of_packets)\n",
    "    print(\"using FIFO\")\n",
    "    print_statistics(FIFO_ordered_packets)\n",
    "    return\n",
    "    "
   ]
  },
  {
   "cell_type": "code",
   "execution_count": 201,
   "metadata": {},
   "outputs": [
    {
     "name": "stdout",
     "output_type": "stream",
     "text": [
      "done reading file\n",
      "done Weighted_Fair_Queuing\n",
      "using WFQ: \n",
      "average waiting time :  35.54545454545455\n",
      "total waiting time:  391\n",
      "done First_In_First_Out_Queuing\n",
      "using FIFO\n",
      "average waiting time :  34.27272727272727\n",
      "total waiting time:  377\n"
     ]
    }
   ],
   "source": [
    "file_path=\"test1.txt\"\n",
    "main(file_path)"
   ]
  },
  {
   "cell_type": "code",
   "execution_count": null,
   "metadata": {},
   "outputs": [],
   "source": []
  },
  {
   "cell_type": "code",
   "execution_count": null,
   "metadata": {},
   "outputs": [],
   "source": []
  },
  {
   "cell_type": "code",
   "execution_count": null,
   "metadata": {},
   "outputs": [],
   "source": []
  }
 ],
 "metadata": {
  "kernelspec": {
   "display_name": "Python 3",
   "language": "python",
   "name": "python3"
  },
  "language_info": {
   "codemirror_mode": {
    "name": "ipython",
    "version": 3
   },
   "file_extension": ".py",
   "mimetype": "text/x-python",
   "name": "python",
   "nbconvert_exporter": "python",
   "pygments_lexer": "ipython3",
   "version": "3.7.4"
  }
 },
 "nbformat": 4,
 "nbformat_minor": 2
}
